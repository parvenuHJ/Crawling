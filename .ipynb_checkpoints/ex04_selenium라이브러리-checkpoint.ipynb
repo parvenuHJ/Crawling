{
 "cells": [
  {
   "cell_type": "markdown",
   "id": "45d14331",
   "metadata": {},
   "source": [
    "### selenium 라이브러리 불러오기\n",
    " - 웹페이지를 제어하기 위한 라이브러리"
   ]
  },
  {
   "cell_type": "code",
   "execution_count": 1,
   "id": "36763369",
   "metadata": {},
   "outputs": [
    {
     "name": "stdout",
     "output_type": "stream",
     "text": [
      "Requirement already satisfied: selenium in c:\\users\\smhrd\\anaconda3\\lib\\site-packages (4.11.2)\n",
      "Requirement already satisfied: urllib3[socks]<3,>=1.26 in c:\\users\\smhrd\\anaconda3\\lib\\site-packages (from selenium) (1.26.16)\n",
      "Requirement already satisfied: trio~=0.17 in c:\\users\\smhrd\\anaconda3\\lib\\site-packages (from selenium) (0.22.2)\n",
      "Requirement already satisfied: trio-websocket~=0.9 in c:\\users\\smhrd\\anaconda3\\lib\\site-packages (from selenium) (0.10.3)\n",
      "Requirement already satisfied: certifi>=2021.10.8 in c:\\users\\smhrd\\anaconda3\\lib\\site-packages (from selenium) (2023.5.7)\n",
      "Requirement already satisfied: attrs>=20.1.0 in c:\\users\\smhrd\\anaconda3\\lib\\site-packages (from trio~=0.17->selenium) (22.1.0)\n",
      "Requirement already satisfied: sortedcontainers in c:\\users\\smhrd\\anaconda3\\lib\\site-packages (from trio~=0.17->selenium) (2.4.0)\n",
      "Requirement already satisfied: idna in c:\\users\\smhrd\\anaconda3\\lib\\site-packages (from trio~=0.17->selenium) (3.4)\n",
      "Requirement already satisfied: outcome in c:\\users\\smhrd\\anaconda3\\lib\\site-packages (from trio~=0.17->selenium) (1.2.0)\n",
      "Requirement already satisfied: sniffio in c:\\users\\smhrd\\anaconda3\\lib\\site-packages (from trio~=0.17->selenium) (1.2.0)\n",
      "Requirement already satisfied: cffi>=1.14 in c:\\users\\smhrd\\anaconda3\\lib\\site-packages (from trio~=0.17->selenium) (1.15.1)\n",
      "Requirement already satisfied: exceptiongroup in c:\\users\\smhrd\\anaconda3\\lib\\site-packages (from trio-websocket~=0.9->selenium) (1.1.2)\n",
      "Requirement already satisfied: wsproto>=0.14 in c:\\users\\smhrd\\anaconda3\\lib\\site-packages (from trio-websocket~=0.9->selenium) (1.2.0)\n",
      "Requirement already satisfied: PySocks!=1.5.7,<2.0,>=1.5.6 in c:\\users\\smhrd\\anaconda3\\lib\\site-packages (from urllib3[socks]<3,>=1.26->selenium) (1.7.1)\n",
      "Requirement already satisfied: pycparser in c:\\users\\smhrd\\anaconda3\\lib\\site-packages (from cffi>=1.14->trio~=0.17->selenium) (2.21)\n",
      "Requirement already satisfied: h11<1,>=0.9.0 in c:\\users\\smhrd\\anaconda3\\lib\\site-packages (from wsproto>=0.14->trio-websocket~=0.9->selenium) (0.14.0)\n"
     ]
    }
   ],
   "source": [
    "# 기본적으로 파이썬에 내장된 라이브러리가 아니므로 설치를 해줘야한다.\n",
    "!pip install selenium"
   ]
  },
  {
   "cell_type": "code",
   "execution_count": 2,
   "id": "2953dbb7",
   "metadata": {},
   "outputs": [],
   "source": [
    "from selenium import webdriver as wb\n",
    "# webdriver -> 웹 브라우저를 제어하기 위한 라이브러리\n",
    "from selenium.webdriver.common.keys import Keys # keys Keys 대소문자 구분!\n",
    "# 웹을 통해서 값을 '입력'하기 위한 라이브러리\n",
    "from selenium.webdriver.common.by import By # 대소문자 구분!\n",
    "# 태그의 위치를 찾기 위한 라이브러리\n",
    "\n",
    "# soup.select -> 객체화"
   ]
  },
  {
   "cell_type": "markdown",
   "id": "814684ea",
   "metadata": {},
   "source": [
    "### selenium 환경설정\n",
    " - 크롬드라이버를 항상 최신버전으로 유지해주어야 실행이 된다."
   ]
  },
  {
   "cell_type": "code",
   "execution_count": 3,
   "id": "e193885c",
   "metadata": {},
   "outputs": [],
   "source": [
    "# 크롬 드라이버는 늘 최신버전이여야 한다\n",
    "# 구글에 '크롬드라이버' 검색\n",
    "# 사용 중인 크롬 버전과 일치하는 드라이버를 크롤링 폴더에 다운로드\n",
    "# 크롬 버전 확인하는 방법\n",
    "# 우측 상단 케밥 바(점 3개 버튼) 클릭 -> 설정 -> 좌측 하단 Chrome 정보 클릭 -> 버전확인"
   ]
  },
  {
   "cell_type": "code",
   "execution_count": 16,
   "id": "78cd92a0",
   "metadata": {},
   "outputs": [],
   "source": [
    "# 크롬드라이버 실행\n",
    "driver = wb.Chrome()\n",
    "\n",
    "# 주소를 알려주지 않으면 빈 창이 뜨므로\n",
    "# requests 처럼 메소드를 사용하여 페이지의 url 입력\n",
    "driver.get('https://www.naver.com/')\n",
    "\n",
    "# 이제부터 driver라는 변수가 페이지의 모든 정보를 갖고 있게 된다."
   ]
  },
  {
   "cell_type": "code",
   "execution_count": 17,
   "id": "204cacd8",
   "metadata": {},
   "outputs": [
    {
     "data": {
      "text/plain": [
       "<selenium.webdriver.remote.webelement.WebElement (session=\"ccdd994bcfc323af4bce30309f8f0d1d\", element=\"8D09F85DF5B119DC0B159FC2C922AB49_element_12\")>"
      ]
     },
     "execution_count": 17,
     "metadata": {},
     "output_type": "execute_result"
    }
   ],
   "source": [
    "# 검색창 위치 찾기(By 라이브러리)\n",
    "driver.find_element(By.ID, 'query')"
   ]
  },
  {
   "cell_type": "code",
   "execution_count": 20,
   "id": "7fe7968c",
   "metadata": {},
   "outputs": [],
   "source": [
    "search = driver.find_element(By.ID, 'query')"
   ]
  },
  {
   "cell_type": "code",
   "execution_count": 21,
   "id": "2f33ac16",
   "metadata": {},
   "outputs": [],
   "source": [
    "# 검색어 입력하기\n",
    "# search 검색창의 위치\n",
    "# send_keys('단어') -> '단어'라는 키워드를 검색창에 전송\n",
    "search.send_keys('아이유 배경화면')"
   ]
  },
  {
   "cell_type": "code",
   "execution_count": 23,
   "id": "a7519b98",
   "metadata": {},
   "outputs": [],
   "source": [
    "# 검색버튼 클릭!\n",
    "btn = driver.find_element(By.ID,'search-btn')\n",
    "btn.click()"
   ]
  },
  {
   "cell_type": "code",
   "execution_count": 30,
   "id": "207832b9",
   "metadata": {},
   "outputs": [],
   "source": [
    "# driver.back() --> 뒤로가기\n",
    "# 엔터\n",
    "search = driver.find_element(By.ID, 'query')\n",
    "search.send_keys('스마트인재개발원 김민수 강사님')\n",
    "# -> 키보드에 있는 ENTER 기능을 사용\n",
    "search.send_keys(Keys.ENTER)"
   ]
  },
  {
   "cell_type": "code",
   "execution_count": null,
   "id": "9a33a99d",
   "metadata": {},
   "outputs": [],
   "source": [
    "# 크롬창 종료\n",
    "driver.close()"
   ]
  },
  {
   "cell_type": "code",
   "execution_count": null,
   "id": "2f077839",
   "metadata": {},
   "outputs": [],
   "source": []
  },
  {
   "cell_type": "code",
   "execution_count": null,
   "id": "bb07d5b4",
   "metadata": {},
   "outputs": [],
   "source": []
  },
  {
   "cell_type": "code",
   "execution_count": null,
   "id": "fd5b0cd6",
   "metadata": {},
   "outputs": [],
   "source": []
  },
  {
   "cell_type": "code",
   "execution_count": null,
   "id": "ff9f59c0",
   "metadata": {},
   "outputs": [],
   "source": []
  },
  {
   "cell_type": "code",
   "execution_count": null,
   "id": "67607bda",
   "metadata": {},
   "outputs": [],
   "source": []
  },
  {
   "cell_type": "code",
   "execution_count": null,
   "id": "e07ec309",
   "metadata": {},
   "outputs": [],
   "source": []
  },
  {
   "cell_type": "code",
   "execution_count": null,
   "id": "daeb9693",
   "metadata": {},
   "outputs": [],
   "source": []
  },
  {
   "cell_type": "code",
   "execution_count": null,
   "id": "507c26a9",
   "metadata": {},
   "outputs": [],
   "source": []
  },
  {
   "cell_type": "code",
   "execution_count": null,
   "id": "33e24209",
   "metadata": {},
   "outputs": [],
   "source": []
  }
 ],
 "metadata": {
  "kernelspec": {
   "display_name": "Python 3 (ipykernel)",
   "language": "python",
   "name": "python3"
  },
  "language_info": {
   "codemirror_mode": {
    "name": "ipython",
    "version": 3
   },
   "file_extension": ".py",
   "mimetype": "text/x-python",
   "name": "python",
   "nbconvert_exporter": "python",
   "pygments_lexer": "ipython3",
   "version": "3.11.3"
  }
 },
 "nbformat": 4,
 "nbformat_minor": 5
}
